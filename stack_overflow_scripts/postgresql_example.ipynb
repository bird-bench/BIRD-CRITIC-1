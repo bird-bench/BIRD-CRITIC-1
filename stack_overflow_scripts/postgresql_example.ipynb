{
 "cells": [
  {
   "cell_type": "code",
   "execution_count": 1,
   "metadata": {},
   "outputs": [],
   "source": [
    "from table_schema import generate_schema_prompt\n",
    "from postgresql_setup import perform_query_on_postgresql_databases"
   ]
  },
  {
   "cell_type": "markdown",
   "metadata": {},
   "source": [
    "## Check Schema\n"
   ]
  },
  {
   "cell_type": "code",
   "execution_count": 2,
   "metadata": {},
   "outputs": [],
   "source": [
    "result = generate_schema_prompt(\n",
    "    sql_dialect=\"PostgreSQL\", db_name=\"california_schools\", table_name=\"satscores\"\n",
    ")"
   ]
  },
  {
   "cell_type": "code",
   "execution_count": 3,
   "metadata": {},
   "outputs": [
    {
     "name": "stdout",
     "output_type": "stream",
     "text": [
      "CREATE TABLE satscores (\n",
      "cds text NOT NULL,\n",
      "rtype text NULL,\n",
      "sname text NULL,\n",
      "dname text NULL,\n",
      "cname text NULL,\n",
      "enroll12 bigint NULL,\n",
      "numtsttakr bigint NULL,\n",
      "avgscrread bigint NULL,\n",
      "avgscrmath bigint NULL,\n",
      "avgscrwrite bigint NULL,\n",
      "numge1500 bigint NULL,\n",
      "    PRIMARY KEY (cds),\n",
      "    FOREIGN KEY (cds) REFERENCES schools(cdscode)\n",
      ");\n",
      "\n",
      "Example data:\n",
      "           cds rtype                        sname                             dname  cname  enroll12  numtsttakr  avgscrread  avgscrmath  avgscrwrite  numge1500\n",
      "03100330000000     D                         None Amador County Office of Education Amador        16           0         NaN         NaN          NaN        NaN\n",
      "03739810000000     D                         None             Amador County Unified Amador       317          97       525.0       514.0        503.0       60.0\n",
      "03739810330050     S North Star Independent Study             Amador County Unified Amador        17           0         NaN         NaN          NaN        NaN\n"
     ]
    }
   ],
   "source": [
    "print(result)"
   ]
  },
  {
   "cell_type": "markdown",
   "metadata": {},
   "source": [
    "## Reproduce the error\n"
   ]
  },
  {
   "cell_type": "markdown",
   "metadata": {},
   "source": [
    "### Preprcessing\n",
    "\n",
    "we need to add a new column RWRatio into the satscores table\n"
   ]
  },
  {
   "cell_type": "code",
   "execution_count": 5,
   "metadata": {},
   "outputs": [],
   "source": [
    "add_column_query = \"\"\"\n",
    "ALTER TABLE satscores\n",
    "ADD COLUMN RWRatio numeric(5,2) DEFAULT 0;\n",
    "\"\"\"\n",
    "perform_query_on_postgresql_databases(add_column_query,db_name='california_schools')"
   ]
  },
  {
   "cell_type": "markdown",
   "metadata": {},
   "source": [
    "### Error query\n"
   ]
  },
  {
   "cell_type": "code",
   "execution_count": 7,
   "metadata": {},
   "outputs": [
    {
     "ename": "GroupingError",
     "evalue": "aggregate functions are not allowed in UPDATE\nLINE 4:     WHEN cname = 'Alameda' THEN AVG(CAST(avgscrread AS numer...\n                                        ^\n",
     "output_type": "error",
     "traceback": [
      "\u001b[0;31m---------------------------------------------------------------------------\u001b[0m",
      "\u001b[0;31mGroupingError\u001b[0m                             Traceback (most recent call last)",
      "Cell \u001b[0;32mIn[7], line 8\u001b[0m\n\u001b[1;32m      1\u001b[0m error_query \u001b[38;5;241m=\u001b[39m \u001b[38;5;124m\"\"\"\u001b[39m\n\u001b[1;32m      2\u001b[0m \u001b[38;5;124mUPDATE satscores\u001b[39m\n\u001b[1;32m      3\u001b[0m \u001b[38;5;124mSET RWRatio = CASE\u001b[39m\n\u001b[0;32m   (...)\u001b[0m\n\u001b[1;32m      6\u001b[0m \u001b[38;5;124mEND;\u001b[39m\n\u001b[1;32m      7\u001b[0m \u001b[38;5;124m\"\"\"\u001b[39m\n\u001b[0;32m----> 8\u001b[0m \u001b[43mperform_query_on_postgresql_databases\u001b[49m\u001b[43m(\u001b[49m\u001b[43merror_query\u001b[49m\u001b[43m,\u001b[49m\u001b[43mdb_name\u001b[49m\u001b[38;5;241;43m=\u001b[39;49m\u001b[38;5;124;43m'\u001b[39;49m\u001b[38;5;124;43mcalifornia_schools\u001b[39;49m\u001b[38;5;124;43m'\u001b[39;49m\u001b[43m)\u001b[49m\n",
      "File \u001b[0;32m/app/stack_overflow_scripts/postgresql_setup.py:110\u001b[0m, in \u001b[0;36mperform_query_on_postgresql_databases\u001b[0;34m(query, db_name)\u001b[0m\n\u001b[1;32m    108\u001b[0m         \u001b[38;5;28;01mbreak\u001b[39;00m\n\u001b[1;32m    109\u001b[0m \u001b[38;5;28;01mif\u001b[39;00m flag:\n\u001b[0;32m--> 110\u001b[0m     result \u001b[38;5;241m=\u001b[39m \u001b[43mexecute_postgresql_query\u001b[49m\u001b[43m(\u001b[49m\u001b[43mcursor\u001b[49m\u001b[43m,\u001b[49m\u001b[43m \u001b[49m\u001b[43mquery\u001b[49m\u001b[43m,\u001b[49m\u001b[43m \u001b[49m\u001b[43mcommit\u001b[49m\u001b[38;5;241;43m=\u001b[39;49m\u001b[38;5;28;43;01mTrue\u001b[39;49;00m\u001b[43m)\u001b[49m\n\u001b[1;32m    111\u001b[0m \u001b[38;5;28;01melse\u001b[39;00m:\n\u001b[1;32m    112\u001b[0m     result \u001b[38;5;241m=\u001b[39m execute_postgresql_query(cursor, query)\n",
      "File \u001b[0;32m/app/stack_overflow_scripts/postgresql_setup.py:77\u001b[0m, in \u001b[0;36mexecute_postgresql_query\u001b[0;34m(cursor, query, commit)\u001b[0m\n\u001b[1;32m     65\u001b[0m \u001b[38;5;28;01mdef\u001b[39;00m \u001b[38;5;21mexecute_postgresql_query\u001b[39m(cursor, query, commit\u001b[38;5;241m=\u001b[39m\u001b[38;5;28;01mFalse\u001b[39;00m):\n\u001b[1;32m     66\u001b[0m \u001b[38;5;250m    \u001b[39m\u001b[38;5;124;03m\"\"\"\u001b[39;00m\n\u001b[1;32m     67\u001b[0m \u001b[38;5;124;03m    Execute a PostgreSQL query and optionally commit changes.\u001b[39;00m\n\u001b[1;32m     68\u001b[0m \n\u001b[0;32m   (...)\u001b[0m\n\u001b[1;32m     75\u001b[0m \u001b[38;5;124;03m        list or None: The query results if any, None for write operations.\u001b[39;00m\n\u001b[1;32m     76\u001b[0m \u001b[38;5;124;03m    \"\"\"\u001b[39;00m\n\u001b[0;32m---> 77\u001b[0m     \u001b[43mcursor\u001b[49m\u001b[38;5;241;43m.\u001b[39;49m\u001b[43mexecute\u001b[49m\u001b[43m(\u001b[49m\u001b[43mquery\u001b[49m\u001b[43m)\u001b[49m\n\u001b[1;32m     78\u001b[0m     \u001b[38;5;28;01mif\u001b[39;00m commit:\n\u001b[1;32m     79\u001b[0m         cursor\u001b[38;5;241m.\u001b[39mconnection\u001b[38;5;241m.\u001b[39mcommit()\n",
      "\u001b[0;31mGroupingError\u001b[0m: aggregate functions are not allowed in UPDATE\nLINE 4:     WHEN cname = 'Alameda' THEN AVG(CAST(avgscrread AS numer...\n                                        ^\n"
     ]
    }
   ],
   "source": [
    "error_query = \"\"\"\n",
    "UPDATE satscores\n",
    "SET RWRatio = CASE\n",
    "    WHEN cname = 'Alameda' THEN AVG(CAST(avgscrread AS numeric(5,2))) / AVG(CAST(avgscrwrite AS numeric(5,2)))\n",
    "    ELSE 0\n",
    "END;\n",
    "\"\"\"\n",
    "perform_query_on_postgresql_databases(error_query,db_name='california_schools')"
   ]
  },
  {
   "cell_type": "markdown",
   "metadata": {},
   "source": [
    "## Reference Solution\n"
   ]
  },
  {
   "cell_type": "code",
   "execution_count": 8,
   "metadata": {},
   "outputs": [],
   "source": [
    "correct_update_query = \"\"\"\n",
    "WITH cte_avg AS (\n",
    "    SELECT \n",
    "        AVG(CAST(avgscrread AS numeric(5,2))) / AVG(CAST(avgscrwrite AS numeric(5,2))) AS avg_ratio\n",
    "    FROM satscores\n",
    "    WHERE cname = 'Alameda'\n",
    ")\n",
    "UPDATE satscores\n",
    "SET RWRatio = cte_avg.avg_ratio\n",
    "FROM cte_avg\n",
    "WHERE cname = 'Alameda';\n",
    "\"\"\"\n",
    "\n",
    "perform_query_on_postgresql_databases(correct_update_query,db_name='california_schools')"
   ]
  },
  {
   "cell_type": "markdown",
   "metadata": {},
   "source": [
    "## Test Cases\n"
   ]
  },
  {
   "cell_type": "code",
   "execution_count": 12,
   "metadata": {},
   "outputs": [
    {
     "name": "stdout",
     "output_type": "stream",
     "text": [
      "All test cases passed successfully!\n"
     ]
    }
   ],
   "source": [
    "from decimal import Decimal\n",
    "\n",
    "\n",
    "def test_satscores_update():\n",
    "    try:\n",
    "\n",
    "        # Test case 1: Check if RWRatio is updated for Alameda records\n",
    "        query = (\n",
    "            \"SELECT COUNT(*) FROM satscores WHERE cname = 'Alameda' AND RWRatio <> 0\"\n",
    "        )\n",
    "        result = perform_query_on_postgresql_databases(query,db_name='california_schools')\n",
    "        assert (\n",
    "            result[0][0] > 0\n",
    "        ), f\"Expected some records to be updated, but found {result[0][0]}\"\n",
    "\n",
    "        # Test case 2: Verify the RWRatio calculation for a specific record\n",
    "        query = \"\"\"\n",
    "        SELECT cds, avgscrread, avgscrwrite, RWRatio \n",
    "        FROM satscores \n",
    "        WHERE cname = 'Alameda' AND avgscrread IS NOT NULL AND avgscrwrite IS NOT NULL\n",
    "        LIMIT 1\n",
    "        \"\"\"\n",
    "        result = perform_query_on_postgresql_databases(query,db_name='california_schools')\n",
    "        assert len(result) > 0, \"No valid records found for Alameda\"\n",
    "        record = result[0]\n",
    "        expected_ratio = Decimal(record[1]) / Decimal(record[2])\n",
    "        actual_ratio = Decimal(record[3])\n",
    "        assert abs(actual_ratio - expected_ratio) < Decimal(\n",
    "            \"0.01\"\n",
    "        ), f\"Expected ratio {expected_ratio}, but got {actual_ratio}\"\n",
    "\n",
    "        # Test case 3: Check that non-Alameda records are not updated\n",
    "        query = (\n",
    "            \"SELECT COUNT(*) FROM satscores WHERE cname <> 'Alameda' AND RWRatio <> 0\"\n",
    "        )\n",
    "        result = perform_query_on_postgresql_databases(query,db_name='california_schools')\n",
    "        assert (\n",
    "            result[0][0] == 0\n",
    "        ), f\"Expected 0 non-Alameda records to be updated, but found {result[0][0]}\"\n",
    "\n",
    "        # Test case 4: Verify the overall count of updated records\n",
    "        query = \"SELECT COUNT(*) FROM satscores WHERE RWRatio <> 0\"\n",
    "        result = perform_query_on_postgresql_databases(query,db_name='california_schools')\n",
    "        alameda_count = perform_query_on_postgresql_databases(\n",
    "            \"SELECT COUNT(*) FROM satscores WHERE cname = 'Alameda'\",db_name='california_schools'\n",
    "        )[0][0]\n",
    "        assert (\n",
    "            result[0][0] == alameda_count\n",
    "        ), f\"Expected {alameda_count} records to be updated, but found {result[0][0]}\"\n",
    "\n",
    "        print(\"All test cases passed successfully!\")\n",
    "\n",
    "    except Exception as e:\n",
    "        print(f\"Test failed: {e}\")\n",
    "\n",
    "\n",
    "# Run the test\n",
    "test_satscores_update()"
   ]
  },
  {
   "cell_type": "markdown",
   "metadata": {},
   "source": [
    "## Clean up\n"
   ]
  },
  {
   "cell_type": "code",
   "execution_count": 14,
   "metadata": {},
   "outputs": [
    {
     "name": "stdout",
     "output_type": "stream",
     "text": [
      "Cleanup completed: RWRatio column dropped.\n"
     ]
    }
   ],
   "source": [
    "# Cleanup: Drop the RWRatio column\n",
    "cleanup_query = \"\"\"\n",
    "ALTER TABLE satscores\n",
    "DROP COLUMN IF EXISTS RWRatio;\n",
    "\"\"\"\n",
    "perform_query_on_postgresql_databases(cleanup_query,db_name='california_schools')\n",
    "print(\"Cleanup completed: RWRatio column dropped.\")"
   ]
  },
  {
   "cell_type": "code",
   "execution_count": null,
   "metadata": {},
   "outputs": [],
   "source": []
  }
 ],
 "metadata": {
  "kernelspec": {
   "display_name": "Python 3 (ipykernel)",
   "language": "python",
   "name": "python3"
  },
  "language_info": {
   "codemirror_mode": {
    "name": "ipython",
    "version": 3
   },
   "file_extension": ".py",
   "mimetype": "text/x-python",
   "name": "python",
   "nbconvert_exporter": "python",
   "pygments_lexer": "ipython3",
   "version": "3.10.15"
  }
 },
 "nbformat": 4,
 "nbformat_minor": 4
}
